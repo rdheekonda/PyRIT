{
 "cells": [
  {
   "cell_type": "markdown",
   "id": "32438837-8166-488b-a9c3-8c32f8e6ddfb",
   "metadata": {},
   "source": [
    "## Azure OpenAI Multi Modal Target Demo\n",
    "This notebook demonstrates how to use the Azure OpenAI multi-modal target."
   ]
  },
  {
   "cell_type": "code",
   "execution_count": 1,
   "id": "8b691e8f-bc32-40f2-9a20-999baa9c7dc8",
   "metadata": {},
   "outputs": [],
   "source": [
    "# Copyright (c) Microsoft Corporation.\n",
    "# Licensed under the MIT license.\n",
    "\n",
    "\n",
    "import uuid\n",
    "\n",
    "from pyrit.common import default_values\n",
    "from pyrit.prompt_target import AzureOpenAIMultiModalChatTarget\n",
    "\n",
    "\n",
    "# When using a Prompt Target with an Orchestrator, conversation ID and normalizer ID are handled for you\n",
    "test_conversation_id = str(uuid.uuid4())\n",
    "test_normalizer_id = \"1\"\n",
    "\n",
    "prompt_to_send = [  \n",
    "            { \n",
    "                \"type\": \"text\", \n",
    "                \"text\": \"Describe this picture:\" \n",
    "            },\n",
    "            { \n",
    "                \"type\": \"image_url\",\n",
    "                \"image_url\": {\n",
    "                    \"url\": \"https://t4.ftcdn.net/jpg/00/71/31/85/360_F_71318503_9g1UATIOZzwELZg2DZb7w4oaVyenhQkh.jpg\"\n",
    "                }\n",
    "            }\n",
    "        ]"
   ]
  },
  {
   "cell_type": "markdown",
   "id": "f5a1132c-3e35-4304-ad9e-a34ee2fac148",
   "metadata": {},
   "source": [
    "## Using Azure OpenAI GPT-V model"
   ]
  },
  {
   "cell_type": "code",
   "execution_count": 2,
   "id": "c4157448-a70f-4dc1-b80f-6e75559624f9",
   "metadata": {},
   "outputs": [],
   "source": [
    "default_values.load_default_env()\n",
    "aoai_multi_modal_prompt_target = AzureOpenAIMultiModalChatTarget()"
   ]
  },
  {
   "cell_type": "code",
   "execution_count": 3,
   "id": "053e0bac-daed-4c2c-be15-711508ee7a4f",
   "metadata": {},
   "outputs": [
    {
     "name": "stdout",
     "output_type": "stream",
     "text": [
      "Conversations are given as: [ChatMessage(role='user', content=[{'type': 'text', 'text': 'Describe this picture:'}, {'type': 'image_url', 'image_url': {'url': 'https://t4.ftcdn.net/jpg/00/71/31/85/360_F_71318503_9g1UATIOZzwELZg2DZb7w4oaVyenhQkh.jpg'}}], name=None, tool_calls=None, tool_call_id=None)]\n",
      "entries to send [<pyrit.memory.memory_models.PromptMemoryEntry object at 0x0000021A1D8D4E20>]\n"
     ]
    },
    {
     "name": "stderr",
     "output_type": "stream",
     "text": [
      "Error inserting multiple entries into the table: (duckdb.duckdb.InvalidInputException) Invalid Input Error: Failed to cast value: Type VARCHAR with value 'Describe this picture:' can't be cast to the destination type STRUCT\n",
      "[SQL: INSERT INTO \"PromptMemoryEntries\" (id, role, conversation_id, sequence, timestamp, labels, prompt_metadata, converters, prompt_target, orchestrator, original_prompt_data_type, original_prompt_text, original_prompt_data_sha256, converted_prompt_data_type, converted_prompt_text, converted_prompt_data_sha256) VALUES ($1, $2, $3, $4, $5, $6, $7, $8, $9, $10, $11, $12, $13, $14, $15, $16)]\n",
      "[parameters: (UUID('0e3f8813-4933-47b0-8873-7d89a45acf6d'), 'user', '4573886e-2e69-43b7-b36e-32bc4d6d79dc', -1, datetime.datetime(2024, 4, 11, 22, 41, 53, 964481), '{\"normalizer_id\": \"1\"}', 'null', 'null', 'null', 'null', 'text', [{'type': 'text', 'text': 'Describe this picture:'}, {'type': 'image_url', 'image_url': {'url': 'https://t4.ftcdn.net/jpg/00/71/31/85/360_F_71318503_9g1UATIOZzwELZg2DZb7w4oaVyenhQkh.jpg'}}], 'e8a52e7498f33ce96362d26f697153db495d8e9bfe42cc64195c70f757c7b136', 'text', [{'type': 'text', 'text': 'Describe this picture:'}, {'type': 'image_url', 'image_url': {'url': 'https://t4.ftcdn.net/jpg/00/71/31/85/360_F_71318503_9g1UATIOZzwELZg2DZb7w4oaVyenhQkh.jpg'}}], 'e8a52e7498f33ce96362d26f697153db495d8e9bfe42cc64195c70f757c7b136')]\n",
      "(Background on this error at: https://sqlalche.me/e/20/f405)\n",
      "Traceback (most recent call last):\n",
      "  File \"c:\\Users\\rdheekonda\\AppData\\Local\\anaconda3\\envs\\pyrit-dev\\lib\\site-packages\\sqlalchemy\\engine\\base.py\", line 1970, in _exec_single_context\n",
      "    self.dialect.do_execute(\n",
      "  File \"c:\\Users\\rdheekonda\\AppData\\Local\\anaconda3\\envs\\pyrit-dev\\lib\\site-packages\\sqlalchemy\\engine\\default.py\", line 924, in do_execute\n",
      "    cursor.execute(statement, parameters)\n",
      "  File \"c:\\Users\\rdheekonda\\AppData\\Local\\anaconda3\\envs\\pyrit-dev\\lib\\site-packages\\duckdb_engine\\__init__.py\", line 162, in execute\n",
      "    self.__c.execute(statement, parameters)\n",
      "duckdb.duckdb.InvalidInputException: Invalid Input Error: Failed to cast value: Type VARCHAR with value 'Describe this picture:' can't be cast to the destination type STRUCT\n",
      "\n",
      "The above exception was the direct cause of the following exception:\n",
      "\n",
      "Traceback (most recent call last):\n",
      "  File \"C:\\Users\\rdheekonda\\Desktop\\airedteam\\projects\\PyRIT\\pyrit\\memory\\duckdb_memory.py\", line 215, in insert_entries\n",
      "    session.commit()\n",
      "  File \"c:\\Users\\rdheekonda\\AppData\\Local\\anaconda3\\envs\\pyrit-dev\\lib\\site-packages\\sqlalchemy\\orm\\session.py\", line 1972, in commit\n",
      "    trans.commit(_to_root=True)\n",
      "  File \"<string>\", line 2, in commit\n",
      "  File \"c:\\Users\\rdheekonda\\AppData\\Local\\anaconda3\\envs\\pyrit-dev\\lib\\site-packages\\sqlalchemy\\orm\\state_changes.py\", line 139, in _go\n",
      "    ret_value = fn(self, *arg, **kw)\n",
      "  File \"c:\\Users\\rdheekonda\\AppData\\Local\\anaconda3\\envs\\pyrit-dev\\lib\\site-packages\\sqlalchemy\\orm\\session.py\", line 1257, in commit\n",
      "    self._prepare_impl()\n",
      "  File \"<string>\", line 2, in _prepare_impl\n",
      "  File \"c:\\Users\\rdheekonda\\AppData\\Local\\anaconda3\\envs\\pyrit-dev\\lib\\site-packages\\sqlalchemy\\orm\\state_changes.py\", line 139, in _go\n",
      "    ret_value = fn(self, *arg, **kw)\n",
      "  File \"c:\\Users\\rdheekonda\\AppData\\Local\\anaconda3\\envs\\pyrit-dev\\lib\\site-packages\\sqlalchemy\\orm\\session.py\", line 1232, in _prepare_impl\n",
      "    self.session.flush()\n",
      "  File \"c:\\Users\\rdheekonda\\AppData\\Local\\anaconda3\\envs\\pyrit-dev\\lib\\site-packages\\sqlalchemy\\orm\\session.py\", line 4296, in flush\n",
      "    self._flush(objects)\n",
      "  File \"c:\\Users\\rdheekonda\\AppData\\Local\\anaconda3\\envs\\pyrit-dev\\lib\\site-packages\\sqlalchemy\\orm\\session.py\", line 4431, in _flush\n",
      "    with util.safe_reraise():\n",
      "  File \"c:\\Users\\rdheekonda\\AppData\\Local\\anaconda3\\envs\\pyrit-dev\\lib\\site-packages\\sqlalchemy\\util\\langhelpers.py\", line 146, in __exit__\n",
      "    raise exc_value.with_traceback(exc_tb)\n",
      "  File \"c:\\Users\\rdheekonda\\AppData\\Local\\anaconda3\\envs\\pyrit-dev\\lib\\site-packages\\sqlalchemy\\orm\\session.py\", line 4392, in _flush\n",
      "    flush_context.execute()\n",
      "  File \"c:\\Users\\rdheekonda\\AppData\\Local\\anaconda3\\envs\\pyrit-dev\\lib\\site-packages\\sqlalchemy\\orm\\unitofwork.py\", line 466, in execute\n",
      "    rec.execute(self)\n",
      "  File \"c:\\Users\\rdheekonda\\AppData\\Local\\anaconda3\\envs\\pyrit-dev\\lib\\site-packages\\sqlalchemy\\orm\\unitofwork.py\", line 642, in execute\n",
      "    util.preloaded.orm_persistence.save_obj(\n",
      "  File \"c:\\Users\\rdheekonda\\AppData\\Local\\anaconda3\\envs\\pyrit-dev\\lib\\site-packages\\sqlalchemy\\orm\\persistence.py\", line 93, in save_obj\n",
      "    _emit_insert_statements(\n",
      "  File \"c:\\Users\\rdheekonda\\AppData\\Local\\anaconda3\\envs\\pyrit-dev\\lib\\site-packages\\sqlalchemy\\orm\\persistence.py\", line 1048, in _emit_insert_statements\n",
      "    result = connection.execute(\n",
      "  File \"c:\\Users\\rdheekonda\\AppData\\Local\\anaconda3\\envs\\pyrit-dev\\lib\\site-packages\\sqlalchemy\\engine\\base.py\", line 1421, in execute\n",
      "    return meth(\n",
      "  File \"c:\\Users\\rdheekonda\\AppData\\Local\\anaconda3\\envs\\pyrit-dev\\lib\\site-packages\\sqlalchemy\\sql\\elements.py\", line 514, in _execute_on_connection\n",
      "    return connection._execute_clauseelement(\n",
      "  File \"c:\\Users\\rdheekonda\\AppData\\Local\\anaconda3\\envs\\pyrit-dev\\lib\\site-packages\\sqlalchemy\\engine\\base.py\", line 1643, in _execute_clauseelement\n",
      "    ret = self._execute_context(\n",
      "  File \"c:\\Users\\rdheekonda\\AppData\\Local\\anaconda3\\envs\\pyrit-dev\\lib\\site-packages\\sqlalchemy\\engine\\base.py\", line 1849, in _execute_context\n",
      "    return self._exec_single_context(\n",
      "  File \"c:\\Users\\rdheekonda\\AppData\\Local\\anaconda3\\envs\\pyrit-dev\\lib\\site-packages\\sqlalchemy\\engine\\base.py\", line 1989, in _exec_single_context\n",
      "    self._handle_dbapi_exception(\n",
      "  File \"c:\\Users\\rdheekonda\\AppData\\Local\\anaconda3\\envs\\pyrit-dev\\lib\\site-packages\\sqlalchemy\\engine\\base.py\", line 2356, in _handle_dbapi_exception\n",
      "    raise sqlalchemy_exception.with_traceback(exc_info[2]) from e\n",
      "  File \"c:\\Users\\rdheekonda\\AppData\\Local\\anaconda3\\envs\\pyrit-dev\\lib\\site-packages\\sqlalchemy\\engine\\base.py\", line 1970, in _exec_single_context\n",
      "    self.dialect.do_execute(\n",
      "  File \"c:\\Users\\rdheekonda\\AppData\\Local\\anaconda3\\envs\\pyrit-dev\\lib\\site-packages\\sqlalchemy\\engine\\default.py\", line 924, in do_execute\n",
      "    cursor.execute(statement, parameters)\n",
      "  File \"c:\\Users\\rdheekonda\\AppData\\Local\\anaconda3\\envs\\pyrit-dev\\lib\\site-packages\\duckdb_engine\\__init__.py\", line 162, in execute\n",
      "    self.__c.execute(statement, parameters)\n",
      "sqlalchemy.exc.ProgrammingError: (duckdb.duckdb.InvalidInputException) Invalid Input Error: Failed to cast value: Type VARCHAR with value 'Describe this picture:' can't be cast to the destination type STRUCT\n",
      "[SQL: INSERT INTO \"PromptMemoryEntries\" (id, role, conversation_id, sequence, timestamp, labels, prompt_metadata, converters, prompt_target, orchestrator, original_prompt_data_type, original_prompt_text, original_prompt_data_sha256, converted_prompt_data_type, converted_prompt_text, converted_prompt_data_sha256) VALUES ($1, $2, $3, $4, $5, $6, $7, $8, $9, $10, $11, $12, $13, $14, $15, $16)]\n",
      "[parameters: (UUID('0e3f8813-4933-47b0-8873-7d89a45acf6d'), 'user', '4573886e-2e69-43b7-b36e-32bc4d6d79dc', -1, datetime.datetime(2024, 4, 11, 22, 41, 53, 964481), '{\"normalizer_id\": \"1\"}', 'null', 'null', 'null', 'null', 'text', [{'type': 'text', 'text': 'Describe this picture:'}, {'type': 'image_url', 'image_url': {'url': 'https://t4.ftcdn.net/jpg/00/71/31/85/360_F_71318503_9g1UATIOZzwELZg2DZb7w4oaVyenhQkh.jpg'}}], 'e8a52e7498f33ce96362d26f697153db495d8e9bfe42cc64195c70f757c7b136', 'text', [{'type': 'text', 'text': 'Describe this picture:'}, {'type': 'image_url', 'image_url': {'url': 'https://t4.ftcdn.net/jpg/00/71/31/85/360_F_71318503_9g1UATIOZzwELZg2DZb7w4oaVyenhQkh.jpg'}}], 'e8a52e7498f33ce96362d26f697153db495d8e9bfe42cc64195c70f757c7b136')]\n",
      "(Background on this error at: https://sqlalche.me/e/20/f405)\n"
     ]
    },
    {
     "name": "stdout",
     "output_type": "stream",
     "text": [
      "Conversations are given as: [ChatMessage(role='assistant', content='This picture shows a commercial airplane mid-flight with its landing gear extended. The background is plain white, indicating that the plane has been digitally isolated from its original environment. The plane is light blue in color with darker blue wingtips and tail, and it appears to be an Airbus A320 family aircraft.', name=None, tool_calls=None, tool_call_id=None)]\n",
      "entries to send [<pyrit.memory.memory_models.PromptMemoryEntry object at 0x0000021A1D9FCE50>]\n",
      "Response is  This picture shows a commercial airplane mid-flight with its landing gear extended. The background is plain white, indicating that the plane has been digitally isolated from its original environment. The plane is light blue in color with darker blue wingtips and tail, and it appears to be an Airbus A320 family aircraft.\n"
     ]
    }
   ],
   "source": [
    "response = aoai_multi_modal_prompt_target.send_prompt(\n",
    "    normalized_prompt=prompt_to_send,\n",
    "    conversation_id=test_conversation_id,\n",
    "    normalizer_id=test_normalizer_id,\n",
    ")\n",
    "print(\"Response is \", response)"
   ]
  },
  {
   "cell_type": "code",
   "execution_count": null,
   "id": "cd479e72",
   "metadata": {},
   "outputs": [],
   "source": []
  }
 ],
 "metadata": {
  "kernelspec": {
   "display_name": "pyrit-dev",
   "language": "python",
   "name": "python3"
  },
  "language_info": {
   "codemirror_mode": {
    "name": "ipython",
    "version": 3
   },
   "file_extension": ".py",
   "mimetype": "text/x-python",
   "name": "python",
   "nbconvert_exporter": "python",
   "pygments_lexer": "ipython3",
   "version": "3.10.13"
  }
 },
 "nbformat": 4,
 "nbformat_minor": 5
}
